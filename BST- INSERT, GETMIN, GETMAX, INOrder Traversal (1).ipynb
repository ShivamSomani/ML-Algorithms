{
 "cells": [
  {
   "cell_type": "code",
   "execution_count": 21,
   "metadata": {},
   "outputs": [],
   "source": [
    "#course Algo and DS in python by Holczer Balazs\n",
    "class Node(object):\n",
    "    def __init__(self,data):\n",
    "        self.data = data\n",
    "        self.leftChild = None\n",
    "        self.rightChild = None"
   ]
  },
  {
   "cell_type": "code",
   "execution_count": 76,
   "metadata": {},
   "outputs": [],
   "source": [
    "#https://www.udemy.com/algorithms-and-data-structures-in-python/\n",
    "\n",
    "class BinarySearchTree(object):\n",
    "    def __init__(self):\n",
    "        self.root = None\n",
    "    \n",
    "    def insert(self,data):\n",
    "        if not self.root:\n",
    "            self.root= Node(data)\n",
    "        else:\n",
    "            self.insertNode(data, self.root) \n",
    "    \n",
    "    def insertNode(self,data,node):\n",
    "        if data < node.data:\n",
    "            if node.leftChild:\n",
    "                self.insertNode(data, node.leftChild)\n",
    "            else:\n",
    "                node.leftChild = Node(data)\n",
    "        else:\n",
    "            if node.rightChild:\n",
    "                self.insertNode(data, node.rightChild)\n",
    "            else:\n",
    "                node.rightChild = Node(data)\n",
    "                \n",
    "    # Min value will always be on left side of BT hence left Child        \n",
    "    def getMinValue(self):\n",
    "        if self.root:\n",
    "            return self.getMin(self.root)\n",
    "        \n",
    "    def getMin(self, node):\n",
    "        if node.leftChild:\n",
    "            return self.getMin(node.leftChild)\n",
    "        return node.data\n",
    "    \n",
    "    # Max value will always be on right side of BT hence right Child       \n",
    "    def getMaxValue(self):\n",
    "         if self.root:\n",
    "            return self.getMax(self.root)\n",
    "        \n",
    "    def getMax(self, node):\n",
    "        if node.rightChild:\n",
    "            return self.getMax(node.rightChild)\n",
    "        return node.data\n",
    "\n",
    "    # Inorder traversal = visit left sub tree + the root node + the right subtree (recursively)\n",
    "    #Inorder traversal will always be sorted in ascending order\n",
    "    def traverse(self):\n",
    "        if self.root:\n",
    "            return self.traverseInOrder(self.root)\n",
    "    \n",
    "    def traverseInOrder(self,node):\n",
    "        if node.leftChild:\n",
    "            self.traverseInOrder(node.leftChild)\n",
    "        print (\"%s \" % node.data)\n",
    "    \n",
    "        if node.rightChild:\n",
    "            self.traverseInOrder(node.rightChild)\n",
    "            "
   ]
  },
  {
   "cell_type": "code",
   "execution_count": 77,
   "metadata": {},
   "outputs": [],
   "source": [
    "bst= BinarySearchTree()\n",
    "bst.insert(10)\n",
    "bst.insert(5)\n",
    "bst.insert(15)\n",
    "bst.insert(6)"
   ]
  },
  {
   "cell_type": "code",
   "execution_count": 78,
   "metadata": {},
   "outputs": [
    {
     "name": "stdout",
     "output_type": "stream",
     "text": [
      "5\n",
      "15\n",
      "__________\n",
      "5 \n",
      "6 \n",
      "10 \n",
      "15 \n"
     ]
    }
   ],
   "source": [
    "print(bst.getMinValue())\n",
    "print(bst.getMaxValue())\n",
    "print(\"__________\")\n",
    "bst.traverse()"
   ]
  },
  {
   "cell_type": "code",
   "execution_count": null,
   "metadata": {},
   "outputs": [],
   "source": []
  }
 ],
 "metadata": {
  "kernelspec": {
   "display_name": "Python 3",
   "language": "python",
   "name": "python3"
  },
  "language_info": {
   "codemirror_mode": {
    "name": "ipython",
    "version": 3
   },
   "file_extension": ".py",
   "mimetype": "text/x-python",
   "name": "python",
   "nbconvert_exporter": "python",
   "pygments_lexer": "ipython3",
   "version": "3.7.1"
  }
 },
 "nbformat": 4,
 "nbformat_minor": 2
}
